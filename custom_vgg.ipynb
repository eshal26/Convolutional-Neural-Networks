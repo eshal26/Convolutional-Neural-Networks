{
  "nbformat": 4,
  "nbformat_minor": 0,
  "metadata": {
    "colab": {
      "provenance": [],
      "gpuType": "T4",
      "authorship_tag": "ABX9TyPrCLjT/ZP68Vi3PXIcpGNq",
      "include_colab_link": true
    },
    "kernelspec": {
      "name": "python3",
      "display_name": "Python 3"
    },
    "language_info": {
      "name": "python"
    },
    "accelerator": "GPU"
  },
  "cells": [
    {
      "cell_type": "markdown",
      "metadata": {
        "id": "view-in-github",
        "colab_type": "text"
      },
      "source": [
        "<a href=\"https://colab.research.google.com/github/eshal26/Convolutional-Neural-Networks/blob/main/custom_vgg.ipynb\" target=\"_parent\"><img src=\"https://colab.research.google.com/assets/colab-badge.svg\" alt=\"Open In Colab\"/></a>"
      ]
    },
    {
      "cell_type": "code",
      "source": [
        "import torch\n",
        "import torch.nn as nn\n",
        "import torch.optim as optim\n",
        "from torch.utils.data import DataLoader\n",
        "from torchvision import datasets, transforms, models\n",
        "import os\n",
        "import shutil\n",
        "import sklearn\n",
        "from sklearn.model_selection import train_test_split"
      ],
      "metadata": {
        "id": "isiwRnB5FHBj"
      },
      "execution_count": null,
      "outputs": []
    },
    {
      "cell_type": "code",
      "source": [
        "train_dir = 'train_dataset'\n",
        "val_dir = 'validation_dataset'\n",
        "test_dir = 'test_dataset'\n",
        "\n",
        "# Define transformations for training, validation, and testing data\n",
        "train_transform = transforms.Compose([\n",
        "    transforms.Resize((224, 224)),\n",
        "    transforms.RandomHorizontalFlip(),\n",
        "    transforms.RandomRotation(degrees=15),\n",
        "    transforms.RandomVerticalFlip(),\n",
        "    transforms.ToTensor(),\n",
        "    transforms.Normalize(mean=[0.8238, 0.8539, 0.9391], std=[0.1325, 0.1437, 0.0529])\n",
        "])\n",
        "\n",
        "val_test_transform = transforms.Compose([\n",
        "    transforms.Resize((224, 224)),\n",
        "    transforms.ToTensor(),\n",
        "    transforms.Normalize(mean=[0.8238, 0.8539, 0.9391], std=[0.1325, 0.1437, 0.0529])\n",
        "])\n",
        "\n",
        "# Create datasets\n",
        "train_dataset = datasets.ImageFolder(root=train_dir, transform=train_transform)\n",
        "val_dataset = datasets.ImageFolder(root=val_dir, transform=val_test_transform)\n",
        "test_dataset = datasets.ImageFolder(root=test_dir, transform=val_test_transform)\n",
        "\n",
        "# Create data loaders\n",
        "train_loader = DataLoader(train_dataset, batch_size=32, shuffle=True)\n",
        "val_loader = DataLoader(val_dataset, batch_size=32, shuffle=False)\n",
        "test_loader = DataLoader(test_dataset, batch_size=32, shuffle=False)\n"
      ],
      "metadata": {
        "id": "ZqJqZUJ5FPoL"
      },
      "execution_count": null,
      "outputs": []
    },
    {
      "cell_type": "code",
      "source": [
        "import torch.nn as nn\n",
        "class CustomVGG(nn.Module):\n",
        "    def __init__(self, num_classes=2):\n",
        "        super(CustomVGG, self).__init__()\n",
        "\n",
        "        self.features = nn.Sequential(\n",
        "            nn.Conv2d(in_channels=3, out_channels=64, kernel_size=3, padding=1),\n",
        "            nn.ReLU(inplace=True),\n",
        "            nn.MaxPool2d(kernel_size=2, stride=2),  # Output: 112x112x64\n",
        "\n",
        "            nn.Conv2d(in_channels=64, out_channels=128, kernel_size=3, padding=1),\n",
        "            nn.ReLU(inplace=True),\n",
        "            nn.MaxPool2d(kernel_size=2, stride=2),  # Output: 56x56x128\n",
        "        )\n",
        "\n",
        "        self.classifier = nn.Sequential(\n",
        "            nn.Dropout(p=0.5),\n",
        "            nn.Linear(128 * 56 * 56, 512),\n",
        "            nn.ReLU(inplace=True),\n",
        "            nn.Dropout(p=0.5),\n",
        "            nn.Linear(512, num_classes)\n",
        "        )\n",
        "\n",
        "    def forward(self, x):\n",
        "        x = self.features(x)\n",
        "        x = x.view(x.size(0), -1)  # Flatten\n",
        "        x = self.classifier(x)\n",
        "        return x\n",
        "\n",
        "# Instantiate the model\n",
        "model = CustomVGG(num_classes=2)\n",
        "print(model)"
      ],
      "metadata": {
        "colab": {
          "base_uri": "https://localhost:8080/"
        },
        "id": "smiODfUfKowL",
        "outputId": "f0b93c31-21f1-4a3f-eb89-a0537ec121ba"
      },
      "execution_count": null,
      "outputs": [
        {
          "output_type": "stream",
          "name": "stdout",
          "text": [
            "CustomVGG(\n",
            "  (features): Sequential(\n",
            "    (0): Conv2d(3, 64, kernel_size=(3, 3), stride=(1, 1), padding=(1, 1))\n",
            "    (1): ReLU(inplace=True)\n",
            "    (2): MaxPool2d(kernel_size=2, stride=2, padding=0, dilation=1, ceil_mode=False)\n",
            "    (3): Conv2d(64, 128, kernel_size=(3, 3), stride=(1, 1), padding=(1, 1))\n",
            "    (4): ReLU(inplace=True)\n",
            "    (5): MaxPool2d(kernel_size=2, stride=2, padding=0, dilation=1, ceil_mode=False)\n",
            "  )\n",
            "  (classifier): Sequential(\n",
            "    (0): Dropout(p=0.5, inplace=False)\n",
            "    (1): Linear(in_features=401408, out_features=512, bias=True)\n",
            "    (2): ReLU(inplace=True)\n",
            "    (3): Dropout(p=0.5, inplace=False)\n",
            "    (4): Linear(in_features=512, out_features=2, bias=True)\n",
            "  )\n",
            ")\n"
          ]
        }
      ]
    },
    {
      "cell_type": "code",
      "source": [
        "device = torch.device('cuda' if torch.cuda.is_available() else 'cpu')\n",
        "model = model.to(device)\n",
        "\n",
        "# Define a loss function and optimizer\n",
        "criterion = nn.CrossEntropyLoss()\n",
        "optimizer = torch.optim.Adam(model.parameters(), lr=0.0001)"
      ],
      "metadata": {
        "id": "OyD-LO5uJ06I"
      },
      "execution_count": 11,
      "outputs": []
    },
    {
      "cell_type": "code",
      "source": [
        "# Lists to store metrics\n",
        "train_losses = []\n",
        "train_accuracies = []\n",
        "val_losses = []\n",
        "val_accuracies = []\n",
        "\n",
        "# Training function\n",
        "def train_model(model, train_loader, val_loader, criterion, optimizer, num_epochs=10):\n",
        "    for epoch in range(num_epochs):\n",
        "        model.train()\n",
        "        running_loss = 0.0\n",
        "        correct_predictions = 0\n",
        "        total_samples = 0\n",
        "\n",
        "        # Training phase\n",
        "        for images, labels in train_loader:\n",
        "            # Move data to the device\n",
        "            images, labels = images.to(device), labels.to(device)\n",
        "\n",
        "            # Zero the gradients\n",
        "            optimizer.zero_grad()\n",
        "\n",
        "            # Forward pass\n",
        "            outputs = model(images)\n",
        "\n",
        "            # Compute the loss\n",
        "            loss = criterion(outputs, labels)\n",
        "\n",
        "            # Backward pass and optimize\n",
        "            loss.backward()\n",
        "            optimizer.step()\n",
        "\n",
        "            # Update statistics\n",
        "            running_loss += loss.item() * images.size(0)\n",
        "            _, predicted = torch.max(outputs, 1)\n",
        "            correct_predictions += (predicted == labels).sum().item()\n",
        "            total_samples += labels.size(0)\n",
        "\n",
        "        # Calculate average loss and accuracy for this epoch\n",
        "        epoch_loss = running_loss / len(train_loader.dataset)\n",
        "        epoch_accuracy = 100 * correct_predictions / total_samples\n",
        "        train_losses.append(epoch_loss)\n",
        "        train_accuracies.append(epoch_accuracy)\n",
        "        print(f\"Epoch {epoch+1}/{num_epochs}: Training Loss: {epoch_loss:.4f}, Accuracy: {epoch_accuracy:.2f}%\")\n",
        "\n",
        "        # Validation phase\n",
        "        model.eval()\n",
        "        val_loss = 0.0\n",
        "        val_correct_predictions = 0\n",
        "        val_total_samples = 0\n",
        "\n",
        "        with torch.no_grad():\n",
        "            for images, labels in val_loader:\n",
        "                # Move data to the device\n",
        "                images, labels = images.to(device), labels.to(device)\n",
        "\n",
        "                # Forward pass\n",
        "                outputs = model(images)\n",
        "\n",
        "                # Compute the loss\n",
        "                loss = criterion(outputs, labels)\n",
        "\n",
        "                # Update validation statistics\n",
        "                val_loss += loss.item() * images.size(0)\n",
        "                _, predicted = torch.max(outputs, 1)\n",
        "                val_correct_predictions += (predicted == labels).sum().item()\n",
        "                val_total_samples += labels.size(0)\n",
        "\n",
        "        # Calculate average loss and accuracy for validation\n",
        "        val_loss = val_loss / len(val_loader.dataset)\n",
        "        val_accuracy = 100 * val_correct_predictions / val_total_samples\n",
        "        val_losses.append(val_loss)\n",
        "        val_accuracies.append(val_accuracy)\n",
        "        print(f\"Validation Loss: {val_loss:.4f}, Accuracy: {val_accuracy:.2f}%\")\n",
        "\n",
        "    # Save the model\n",
        "    torch.save(model.state_dict(), 'custom_vgg_model.pth')\n",
        "    print(\"Model saved as 'custom_vgg_model.pth'\")\n",
        "\n",
        "# Call the train_model function\n",
        "train_model(model, train_loader, val_loader, criterion, optimizer, num_epochs=30)"
      ],
      "metadata": {
        "id": "wtTbsJ4lDraT",
        "colab": {
          "base_uri": "https://localhost:8080/"
        },
        "outputId": "84b93f3c-70dd-4a14-e9ae-2baa13cb6b3d"
      },
      "execution_count": 12,
      "outputs": [
        {
          "output_type": "stream",
          "name": "stdout",
          "text": [
            "Epoch 1/30: Training Loss: 0.8253, Accuracy: 81.80%\n",
            "Validation Loss: 0.3347, Accuracy: 86.46%\n",
            "Epoch 2/30: Training Loss: 0.3266, Accuracy: 87.14%\n",
            "Validation Loss: 0.2687, Accuracy: 88.92%\n",
            "Epoch 3/30: Training Loss: 0.2851, Accuracy: 89.06%\n",
            "Validation Loss: 0.2108, Accuracy: 92.92%\n",
            "Epoch 4/30: Training Loss: 0.2384, Accuracy: 90.40%\n",
            "Validation Loss: 0.1586, Accuracy: 93.85%\n",
            "Epoch 5/30: Training Loss: 0.1934, Accuracy: 93.36%\n",
            "Validation Loss: 0.1228, Accuracy: 95.38%\n",
            "Epoch 6/30: Training Loss: 0.1564, Accuracy: 94.70%\n",
            "Validation Loss: 0.0920, Accuracy: 96.92%\n",
            "Epoch 7/30: Training Loss: 0.1267, Accuracy: 95.70%\n",
            "Validation Loss: 0.0902, Accuracy: 97.54%\n",
            "Epoch 8/30: Training Loss: 0.1067, Accuracy: 96.77%\n",
            "Validation Loss: 0.0804, Accuracy: 96.92%\n",
            "Epoch 9/30: Training Loss: 0.0973, Accuracy: 96.85%\n",
            "Validation Loss: 0.0617, Accuracy: 98.15%\n",
            "Epoch 10/30: Training Loss: 0.0802, Accuracy: 97.50%\n",
            "Validation Loss: 0.0831, Accuracy: 96.92%\n",
            "Epoch 11/30: Training Loss: 0.0737, Accuracy: 97.85%\n",
            "Validation Loss: 0.0356, Accuracy: 99.38%\n",
            "Epoch 12/30: Training Loss: 0.0663, Accuracy: 97.77%\n",
            "Validation Loss: 0.0517, Accuracy: 97.85%\n",
            "Epoch 13/30: Training Loss: 0.0568, Accuracy: 98.16%\n",
            "Validation Loss: 0.0283, Accuracy: 99.38%\n",
            "Epoch 14/30: Training Loss: 0.0500, Accuracy: 98.46%\n",
            "Validation Loss: 0.1092, Accuracy: 95.69%\n",
            "Epoch 15/30: Training Loss: 0.0581, Accuracy: 98.04%\n",
            "Validation Loss: 0.0288, Accuracy: 99.69%\n",
            "Epoch 16/30: Training Loss: 0.0506, Accuracy: 98.12%\n",
            "Validation Loss: 0.0386, Accuracy: 98.46%\n",
            "Epoch 17/30: Training Loss: 0.0462, Accuracy: 98.39%\n",
            "Validation Loss: 0.0329, Accuracy: 98.46%\n",
            "Epoch 18/30: Training Loss: 0.0424, Accuracy: 98.69%\n",
            "Validation Loss: 0.0233, Accuracy: 99.69%\n",
            "Epoch 19/30: Training Loss: 0.0433, Accuracy: 98.04%\n",
            "Validation Loss: 0.0253, Accuracy: 99.38%\n",
            "Epoch 20/30: Training Loss: 0.0390, Accuracy: 98.43%\n",
            "Validation Loss: 0.0224, Accuracy: 99.38%\n",
            "Epoch 21/30: Training Loss: 0.0347, Accuracy: 98.85%\n",
            "Validation Loss: 0.0239, Accuracy: 99.08%\n",
            "Epoch 22/30: Training Loss: 0.0310, Accuracy: 98.73%\n",
            "Validation Loss: 0.0215, Accuracy: 99.69%\n",
            "Epoch 23/30: Training Loss: 0.0296, Accuracy: 99.08%\n",
            "Validation Loss: 0.0104, Accuracy: 99.69%\n",
            "Epoch 24/30: Training Loss: 0.0280, Accuracy: 98.96%\n",
            "Validation Loss: 0.0162, Accuracy: 99.08%\n",
            "Epoch 25/30: Training Loss: 0.0241, Accuracy: 99.23%\n",
            "Validation Loss: 0.0599, Accuracy: 97.54%\n",
            "Epoch 26/30: Training Loss: 0.0340, Accuracy: 98.66%\n",
            "Validation Loss: 0.0083, Accuracy: 99.69%\n",
            "Epoch 27/30: Training Loss: 0.0236, Accuracy: 99.08%\n",
            "Validation Loss: 0.0128, Accuracy: 99.69%\n",
            "Epoch 28/30: Training Loss: 0.0239, Accuracy: 99.16%\n",
            "Validation Loss: 0.0248, Accuracy: 99.38%\n",
            "Epoch 29/30: Training Loss: 0.0342, Accuracy: 98.73%\n",
            "Validation Loss: 0.0126, Accuracy: 99.69%\n",
            "Epoch 30/30: Training Loss: 0.0244, Accuracy: 99.04%\n",
            "Validation Loss: 0.0147, Accuracy: 99.69%\n",
            "Model saved as 'custom_vgg_model.pth'\n"
          ]
        }
      ]
    },
    {
      "cell_type": "code",
      "source": [
        "import numpy as np\n",
        "from sklearn.metrics import precision_score, recall_score, f1_score, confusion_matrix, classification_report\n",
        "\n",
        "def evaluate_model(model, test_loader, device):\n",
        "    # Set the model to evaluation mode\n",
        "    model.eval()\n",
        "\n",
        "    # Lists to store true labels and predicted labels\n",
        "    all_labels = []\n",
        "    all_preds = []\n",
        "\n",
        "    with torch.no_grad():\n",
        "        for images, labels in test_loader:\n",
        "            # Move data to the device\n",
        "            images, labels = images.to(device), labels.to(device)\n",
        "\n",
        "            # Forward pass\n",
        "            outputs = model(images)\n",
        "\n",
        "            # Get the predictions\n",
        "            _, preds = torch.max(outputs, 1)\n",
        "\n",
        "            # Append true labels and predictions to the lists\n",
        "            all_labels.extend(labels.cpu().numpy())\n",
        "            all_preds.extend(preds.cpu().numpy())\n",
        "\n",
        "    # Convert lists to numpy arrays\n",
        "    all_labels = np.array(all_labels)\n",
        "    all_preds = np.array(all_preds)\n",
        "\n",
        "    # Calculate metrics\n",
        "    accuracy = (all_preds == all_labels).mean()\n",
        "    precision = precision_score(all_labels, all_preds, average='weighted')\n",
        "    recall = recall_score(all_labels, all_preds, average='weighted')\n",
        "    f1 = f1_score(all_labels, all_preds, average='weighted')\n",
        "    cm = confusion_matrix(all_labels, all_preds)\n",
        "    cr = classification_report(all_labels, all_preds)\n",
        "\n",
        "    # Print the metrics\n",
        "    print(f\"Accuracy: {accuracy:.2f}\")\n",
        "    print(f\"Precision: {precision:.2f}\")\n",
        "    print(f\"Recall: {recall:.2f}\")\n",
        "    print(f\"F1 Score: {f1:.2f}\")\n",
        "    print(\"Confusion Matrix:\")\n",
        "    print(cm)\n",
        "    print(\"Classification Report:\")\n",
        "    print(cr)\n",
        "\n",
        "# Call the evaluate_model function\n",
        "evaluate_model(model, test_loader, device)\n"
      ],
      "metadata": {
        "colab": {
          "base_uri": "https://localhost:8080/"
        },
        "id": "U41DRyJUJ7jP",
        "outputId": "cda59ab8-e885-42e6-b861-5f0367f632cc"
      },
      "execution_count": 13,
      "outputs": [
        {
          "output_type": "stream",
          "name": "stdout",
          "text": [
            "Accuracy: 0.98\n",
            "Precision: 0.98\n",
            "Recall: 0.98\n",
            "F1 Score: 0.98\n",
            "Confusion Matrix:\n",
            "[[ 48   3]\n",
            " [  3 273]]\n",
            "Classification Report:\n",
            "              precision    recall  f1-score   support\n",
            "\n",
            "           0       0.94      0.94      0.94        51\n",
            "           1       0.99      0.99      0.99       276\n",
            "\n",
            "    accuracy                           0.98       327\n",
            "   macro avg       0.97      0.97      0.97       327\n",
            "weighted avg       0.98      0.98      0.98       327\n",
            "\n"
          ]
        }
      ]
    },
    {
      "cell_type": "code",
      "source": [
        "from google.colab import drive\n",
        "drive.mount('/content/drive')"
      ],
      "metadata": {
        "colab": {
          "base_uri": "https://localhost:8080/"
        },
        "id": "-84HdcJHQNE9",
        "outputId": "f7b1eea1-0022-4648-8d98-b37726384fa0"
      },
      "execution_count": 14,
      "outputs": [
        {
          "output_type": "stream",
          "name": "stdout",
          "text": [
            "Mounted at /content/drive\n"
          ]
        }
      ]
    },
    {
      "cell_type": "code",
      "source": [
        "torch.save(model, '/content/drive/MyDrive/custom_vgg_model.pth')"
      ],
      "metadata": {
        "id": "AF_Pri4yQOCP"
      },
      "execution_count": 15,
      "outputs": []
    },
    {
      "cell_type": "code",
      "source": [],
      "metadata": {
        "id": "9T81sr33QeuQ"
      },
      "execution_count": null,
      "outputs": []
    }
  ]
}