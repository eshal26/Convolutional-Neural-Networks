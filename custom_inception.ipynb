{
  "nbformat": 4,
  "nbformat_minor": 0,
  "metadata": {
    "colab": {
      "provenance": [],
      "toc_visible": true,
      "gpuType": "T4",
      "authorship_tag": "ABX9TyMBAmFWYtU3BIPaCFVnoH6d",
      "include_colab_link": true
    },
    "kernelspec": {
      "name": "python3",
      "display_name": "Python 3"
    },
    "language_info": {
      "name": "python"
    },
    "accelerator": "GPU"
  },
  "cells": [
    {
      "cell_type": "markdown",
      "metadata": {
        "id": "view-in-github",
        "colab_type": "text"
      },
      "source": [
        "<a href=\"https://colab.research.google.com/github/eshal26/Convolutional-Neural-Networks/blob/main/custom_inception.ipynb\" target=\"_parent\"><img src=\"https://colab.research.google.com/assets/colab-badge.svg\" alt=\"Open In Colab\"/></a>"
      ]
    },
    {
      "cell_type": "code",
      "source": [
        "\n",
        "import torch\n",
        "import torch.nn as nn\n",
        "import torch.optim as optim\n",
        "from torch.utils.data import DataLoader\n",
        "from torchvision import datasets, transforms, models\n",
        "import os\n",
        "import shutil\n",
        "import sklearn\n",
        "from sklearn.model_selection import train_test_split"
      ],
      "metadata": {
        "id": "vDaDHgvZ8_Sd"
      },
      "execution_count": 2,
      "outputs": []
    },
    {
      "cell_type": "code",
      "source": [
        "train_dir = 'train_dataset'\n",
        "val_dir = 'validation_dataset'\n",
        "test_dir = 'test_dataset'\n",
        "\n",
        "# Define transformations for training, validation, and testing data\n",
        "train_transform = transforms.Compose([\n",
        "    transforms.Resize((224, 224)),\n",
        "    transforms.RandomHorizontalFlip(),\n",
        "    transforms.RandomVerticalFlip(),\n",
        "    transforms.ToTensor(),\n",
        "    transforms.Normalize(mean = [0.8245, 0.8547, 0.9387], std = [0.1323, 0.1431, 0.0530])\n",
        "])\n",
        "\n",
        "val_test_transform = transforms.Compose([\n",
        "    transforms.Resize((224, 224)),\n",
        "    transforms.ToTensor(),\n",
        "    transforms.Normalize(mean = [0.8245, 0.8547, 0.9387], std = [0.1323, 0.1431, 0.0530])\n",
        "])\n",
        "\n",
        "# Create datasets\n",
        "train_dataset = datasets.ImageFolder(root=train_dir, transform=train_transform)\n",
        "val_dataset = datasets.ImageFolder(root=val_dir, transform=val_test_transform)\n",
        "test_dataset = datasets.ImageFolder(root=test_dir, transform=val_test_transform)\n",
        "\n",
        "# Create data loaders\n",
        "train_loader = DataLoader(train_dataset, batch_size=32, shuffle=True)\n",
        "val_loader = DataLoader(val_dataset, batch_size=32, shuffle=False)\n",
        "test_loader = DataLoader(test_dataset, batch_size=32, shuffle=False)"
      ],
      "metadata": {
        "id": "tD56x24c9KqR"
      },
      "execution_count": 3,
      "outputs": []
    },
    {
      "cell_type": "code",
      "source": [
        "import torch\n",
        "import torch.nn as nn\n",
        "\n",
        "class SimpleInceptionModel(nn.Module):\n",
        "    def __init__(self):\n",
        "        super(SimpleInceptionModel, self).__init__()\n",
        "\n",
        "        # Define the convolutional layers\n",
        "        self.conv1 = nn.Sequential(\n",
        "            nn.Conv2d(3, 16, kernel_size=3, stride=1, padding=1),  # Convolution Layer 1\n",
        "            nn.ReLU(),                                             # ReLU Activation\n",
        "            nn.BatchNorm2d(16),                                  # Batch Normalization\n",
        "            nn.MaxPool2d(kernel_size=2, stride=2, padding=0)    # Max Pooling\n",
        "        )\n",
        "\n",
        "        self.conv2 = nn.Sequential(\n",
        "            nn.Conv2d(16, 32, kernel_size=3, stride=1, padding=1),  # Convolution Layer 2\n",
        "            nn.ReLU(),                                              # ReLU Activation\n",
        "            nn.BatchNorm2d(32),                                   # Batch Normalization\n",
        "            nn.MaxPool2d(kernel_size=2, stride=2, padding=0)     # Max Pooling\n",
        "        )\n",
        "\n",
        "        # Dropout Layers\n",
        "        self.dropout1 = nn.Dropout(0.3)\n",
        "        self.dropout2 = nn.Dropout(0.3)\n",
        "\n",
        "        # Flatten Layer\n",
        "        self.flatten = nn.Flatten()  # Converts multi-dimensional tensors into a 1D vector\n",
        "\n",
        "\n",
        "        self.fc1 = nn.Linear(32 * 56 * 56, 2)   # Linear layer for binary classification\n",
        "\n",
        "        # Softmax for binary classification\n",
        "        self.softmax = nn.Softmax(dim=1)\n",
        "\n",
        "    def forward(self, x):\n",
        "        x = self.conv1(x)      # Apply the first set of conv layers\n",
        "        x = self.conv2(x)      # Apply the second set of conv layers\n",
        "        x = self.flatten(x)    # Flatten the tensor\n",
        "        x = self.dropout1(x)   # Apply the first dropout layer\n",
        "        x = self.fc1(x)        # Apply the fully connected layer\n",
        "        x = self.dropout2(x)   # Apply the second dropout layer\n",
        "        x = self.softmax(x)   # Apply Softmax activation\n",
        "        return x\n",
        "\n",
        "model = SimpleInceptionModel()\n",
        "print(model)"
      ],
      "metadata": {
        "colab": {
          "base_uri": "https://localhost:8080/"
        },
        "id": "FrKJfZHtCzBn",
        "outputId": "994ff3f3-8f32-4948-e553-d253ee4052ff"
      },
      "execution_count": 46,
      "outputs": [
        {
          "output_type": "stream",
          "name": "stdout",
          "text": [
            "SimpleInceptionModel(\n",
            "  (conv1): Sequential(\n",
            "    (0): Conv2d(3, 16, kernel_size=(3, 3), stride=(1, 1), padding=(1, 1))\n",
            "    (1): ReLU()\n",
            "    (2): BatchNorm2d(16, eps=1e-05, momentum=0.1, affine=True, track_running_stats=True)\n",
            "    (3): MaxPool2d(kernel_size=2, stride=2, padding=0, dilation=1, ceil_mode=False)\n",
            "  )\n",
            "  (conv2): Sequential(\n",
            "    (0): Conv2d(16, 32, kernel_size=(3, 3), stride=(1, 1), padding=(1, 1))\n",
            "    (1): ReLU()\n",
            "    (2): BatchNorm2d(32, eps=1e-05, momentum=0.1, affine=True, track_running_stats=True)\n",
            "    (3): MaxPool2d(kernel_size=2, stride=2, padding=0, dilation=1, ceil_mode=False)\n",
            "  )\n",
            "  (dropout1): Dropout(p=0.3, inplace=False)\n",
            "  (dropout2): Dropout(p=0.3, inplace=False)\n",
            "  (flatten): Flatten(start_dim=1, end_dim=-1)\n",
            "  (fc1): Linear(in_features=100352, out_features=2, bias=True)\n",
            "  (softmax): Softmax(dim=1)\n",
            ")\n"
          ]
        }
      ]
    },
    {
      "cell_type": "code",
      "source": [
        "from collections import Counter\n",
        "\n",
        "# Extract labels from the train dataset\n",
        "all_labels = [label for _, label in train_dataset]\n",
        "\n",
        "# Convert to a numpy array\n",
        "all_labels = np.array(all_labels)\n",
        "\n",
        "# Print unique labels and counts\n",
        "unique_labels, counts = np.unique(all_labels, return_counts=True)\n",
        "print(f\"Unique Labels: {unique_labels}\")\n",
        "print(f\"Counts: {counts}\")\n",
        "\n",
        "# Calculate class weights\n",
        "num_samples = len(all_labels)\n",
        "num_classes = len(unique_labels)\n",
        "class_counts = Counter(all_labels)\n",
        "class_weights = {class_id: num_samples / (num_classes * count) for class_id, count in class_counts.items()}\n",
        "class_weights_tensor = torch.tensor([class_weights[i] for i in range(num_classes)], dtype=torch.float32)\n",
        "\n",
        "print(f\"Class Weights: {class_weights}\")\n",
        "print(f\"Class Weights Tensor: {class_weights_tensor}\")"
      ],
      "metadata": {
        "colab": {
          "base_uri": "https://localhost:8080/"
        },
        "id": "vQDCR2X8EMiF",
        "outputId": "664bcc4c-322c-4073-d7ce-4d6721191948"
      },
      "execution_count": 47,
      "outputs": [
        {
          "output_type": "stream",
          "name": "stdout",
          "text": [
            "Unique Labels: [0 1]\n",
            "Counts: [ 352 1926]\n",
            "Class Weights: {0: 3.2357954545454546, 1: 0.5913811007268951}\n",
            "Class Weights Tensor: tensor([3.2358, 0.5914])\n"
          ]
        }
      ]
    },
    {
      "cell_type": "code",
      "source": [
        "device = torch.device('cuda' if torch.cuda.is_available() else 'cpu')\n",
        "model = model.to(device)\n",
        "\n",
        "# Define a loss function and optimizer\n",
        "criterion = nn.CrossEntropyLoss(weight=class_weights_tensor.to(device))\n",
        "optimizer = torch.optim.Adam(model.parameters(), lr=0.0001)\n"
      ],
      "metadata": {
        "id": "gD_CEPTrFgK1"
      },
      "execution_count": 48,
      "outputs": []
    },
    {
      "cell_type": "code",
      "source": [
        "scheduler = optim.lr_scheduler.StepLR(optimizer, step_size=5, gamma=0.7)\n",
        "\n",
        "for epoch in range(num_epochs):\n",
        "    model.train()\n",
        "    running_loss = 0.0\n",
        "\n",
        "    for images, labels in train_loader:\n",
        "        images, labels = images.to(device), labels.to(device)\n",
        "        optimizer.zero_grad()\n",
        "        outputs = model(images)\n",
        "        loss = criterion(outputs, labels)\n",
        "        loss.backward()\n",
        "        optimizer.step()\n",
        "        running_loss += loss.item() * images.size(0)\n",
        "\n",
        "    epoch_loss = running_loss / len(train_loader.dataset)\n",
        "    model.eval()\n",
        "    val_loss = 0.0\n",
        "    correct = 0\n",
        "    total = 0\n",
        "\n",
        "    with torch.no_grad():\n",
        "        for images, labels in val_loader:\n",
        "            images, labels = images.to(device), labels.to(device)\n",
        "            outputs = model(images)\n",
        "            loss = criterion(outputs, labels)\n",
        "            val_loss += loss.item() * images.size(0)\n",
        "            _, predicted = torch.max(outputs, 1)\n",
        "            total += labels.size(0)\n",
        "            correct += (predicted == labels).sum().item()\n",
        "\n",
        "    val_loss = val_loss / len(val_loader.dataset)\n",
        "    val_accuracy = 100 * correct / total\n",
        "\n",
        "    # Step the scheduler\n",
        "    scheduler.step()\n",
        "\n",
        "    print(f\"Epoch {epoch+1}/{num_epochs}, \"\n",
        "          f\"Training Loss: {epoch_loss:.4f}, \"\n",
        "          f\"Validation Loss: {val_loss:.4f}, \"\n",
        "          f\"Validation Accuracy: {val_accuracy:.2f}%\")\n"
      ],
      "metadata": {
        "colab": {
          "base_uri": "https://localhost:8080/"
        },
        "id": "PnG6ljAUFkeH",
        "outputId": "481abea3-b887-4c59-b778-3efe652a39bb"
      },
      "execution_count": 49,
      "outputs": [
        {
          "output_type": "stream",
          "name": "stdout",
          "text": [
            "Epoch 1/20, Training Loss: 0.7419, Validation Loss: 0.4638, Validation Accuracy: 84.05%\n",
            "Epoch 2/20, Training Loss: 0.5842, Validation Loss: 0.4864, Validation Accuracy: 82.00%\n",
            "Epoch 3/20, Training Loss: 0.5584, Validation Loss: 0.4741, Validation Accuracy: 83.44%\n",
            "Epoch 4/20, Training Loss: 0.5409, Validation Loss: 0.4634, Validation Accuracy: 84.66%\n",
            "Epoch 5/20, Training Loss: 0.5363, Validation Loss: 0.4641, Validation Accuracy: 84.87%\n",
            "Epoch 6/20, Training Loss: 0.5266, Validation Loss: 0.4342, Validation Accuracy: 87.73%\n",
            "Epoch 7/20, Training Loss: 0.5229, Validation Loss: 0.4579, Validation Accuracy: 85.07%\n",
            "Epoch 8/20, Training Loss: 0.5120, Validation Loss: 0.4298, Validation Accuracy: 88.34%\n",
            "Epoch 9/20, Training Loss: 0.5142, Validation Loss: 0.4236, Validation Accuracy: 88.96%\n",
            "Epoch 10/20, Training Loss: 0.5193, Validation Loss: 0.4380, Validation Accuracy: 87.32%\n",
            "Epoch 11/20, Training Loss: 0.5122, Validation Loss: 0.4288, Validation Accuracy: 88.34%\n",
            "Epoch 12/20, Training Loss: 0.5083, Validation Loss: 0.4278, Validation Accuracy: 88.34%\n",
            "Epoch 13/20, Training Loss: 0.5116, Validation Loss: 0.4341, Validation Accuracy: 87.93%\n",
            "Epoch 14/20, Training Loss: 0.5177, Validation Loss: 0.4202, Validation Accuracy: 89.16%\n",
            "Epoch 15/20, Training Loss: 0.5076, Validation Loss: 0.4227, Validation Accuracy: 89.16%\n",
            "Epoch 16/20, Training Loss: 0.5112, Validation Loss: 0.4178, Validation Accuracy: 89.37%\n",
            "Epoch 17/20, Training Loss: 0.5126, Validation Loss: 0.4193, Validation Accuracy: 89.16%\n",
            "Epoch 18/20, Training Loss: 0.5029, Validation Loss: 0.4124, Validation Accuracy: 90.59%\n",
            "Epoch 19/20, Training Loss: 0.5090, Validation Loss: 0.4216, Validation Accuracy: 88.96%\n",
            "Epoch 20/20, Training Loss: 0.5061, Validation Loss: 0.4116, Validation Accuracy: 89.98%\n"
          ]
        }
      ]
    },
    {
      "cell_type": "code",
      "source": [
        "from sklearn.metrics import classification_report, confusion_matrix\n",
        "import seaborn as sns\n",
        "import matplotlib.pyplot as plt\n",
        "\n",
        "def test_model(model, test_loader, device):\n",
        "    model.eval()  # Set the model to evaluation mode\n",
        "    all_labels = []\n",
        "    all_preds = []\n",
        "\n",
        "    with torch.no_grad():\n",
        "        for images, labels in test_loader:\n",
        "            images, labels = images.to(device), labels.to(device)\n",
        "            outputs = model(images)\n",
        "            _, predicted = torch.max(outputs, 1)\n",
        "            all_labels.extend(labels.cpu().numpy())\n",
        "            all_preds.extend(predicted.cpu().numpy())\n",
        "\n",
        "    # Generate classification report\n",
        "    print(\"Classification Report:\")\n",
        "    print(classification_report(all_labels, all_preds, target_names=['Class 0', 'Class 1']))\n",
        "\n",
        "    # Generate confusion matrix\n",
        "    cm = confusion_matrix(all_labels, all_preds)\n",
        "    plt.figure(figsize=(8, 6))\n",
        "    sns.heatmap(cm, annot=True, fmt='d', cmap='Blues', xticklabels=['Class 0', 'Class 1'], yticklabels=['Class 0', 'Class 1'])\n",
        "    plt.xlabel('Predicted Labels')\n",
        "    plt.ylabel('True Labels')\n",
        "    plt.title('Confusion Matrix')\n",
        "    plt.show()\n",
        "\n",
        "# Call the test function\n",
        "test_model(model, test_loader, device)\n"
      ],
      "metadata": {
        "colab": {
          "base_uri": "https://localhost:8080/",
          "height": 738
        },
        "id": "JHWP8zCAKeL5",
        "outputId": "1b685b81-100e-4a88-bf17-e1a9ab782d90"
      },
      "execution_count": 51,
      "outputs": [
        {
          "output_type": "stream",
          "name": "stdout",
          "text": [
            "Classification Report:\n",
            "              precision    recall  f1-score   support\n",
            "\n",
            "     Class 0       0.73      0.59      0.65        76\n",
            "     Class 1       0.93      0.96      0.94       413\n",
            "\n",
            "    accuracy                           0.90       489\n",
            "   macro avg       0.83      0.78      0.80       489\n",
            "weighted avg       0.90      0.90      0.90       489\n",
            "\n"
          ]
        },
        {
          "output_type": "display_data",
          "data": {
            "text/plain": [
              "<Figure size 800x600 with 2 Axes>"
            ],
            "image/png": "[encoded data removed]"
          },
          "metadata": {}
        }
      ]
    },
    {
      "cell_type": "code",
      "source": [
        "# Testing phase\n",
        "model.eval()  # Set model to evaluation mode\n",
        "test_loss = 0.0\n",
        "correct = 0\n",
        "total = 0\n",
        "\n",
        "with torch.no_grad():  # Disable gradient calculation for testing\n",
        "    for images, labels in test_loader:\n",
        "        images, labels = images.to(device), labels.to(device)  # Move data to the GPU if available\n",
        "        outputs = model(images)  # Forward pass\n",
        "        loss = criterion(outputs, labels)  # Compute the loss\n",
        "        test_loss += loss.item() * images.size(0)  # Accumulate loss\n",
        "\n",
        "        _, predicted = torch.max(outputs, 1)  # Get the predicted labels\n",
        "        total += labels.size(0)\n",
        "        correct += (predicted == labels).sum().item()  # Count correct predictions\n",
        "\n",
        "# Compute average test loss and accuracy\n",
        "test_loss = test_loss / len(test_loader.dataset)\n",
        "test_accuracy = 100 * correct / total\n",
        "\n",
        "# Print test results\n",
        "print(f\"Test Loss: {test_loss:.4f}, Test Accuracy: {test_accuracy:.2f}%\")\n"
      ],
      "metadata": {
        "colab": {
          "base_uri": "https://localhost:8080/"
        },
        "id": "usrI-dvwGJOJ",
        "outputId": "e28a67b4-3529-4d70-9ae8-e1655ae7a753"
      },
      "execution_count": 50,
      "outputs": [
        {
          "output_type": "stream",
          "name": "stdout",
          "text": [
            "Test Loss: 0.4150, Test Accuracy: 90.18%\n"
          ]
        }
      ]
    },
    {
      "cell_type": "code",
      "source": [],
      "metadata": {
        "id": "7Tjp9xJEMXBK"
      },
      "execution_count": null,
      "outputs": []
    }
  ]
}