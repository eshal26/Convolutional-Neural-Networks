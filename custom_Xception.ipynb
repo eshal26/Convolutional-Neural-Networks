{
  "nbformat": 4,
  "nbformat_minor": 0,
  "metadata": {
    "colab": {
      "provenance": [],
      "gpuType": "T4",
      "authorship_tag": "ABX9TyMw0GD0suBxR8xRwEQS/5TW",
      "include_colab_link": true
    },
    "kernelspec": {
      "name": "python3",
      "display_name": "Python 3"
    },
    "language_info": {
      "name": "python"
    },
    "accelerator": "GPU"
  },
  "cells": [
    {
      "cell_type": "markdown",
      "metadata": {
        "id": "view-in-github",
        "colab_type": "text"
      },
      "source": [
        "<a href=\"https://colab.research.google.com/github/eshal26/Convolutional-Neural-Networks/blob/main/custom_Xception.ipynb\" target=\"_parent\"><img src=\"https://colab.research.google.com/assets/colab-badge.svg\" alt=\"Open In Colab\"/></a>"
      ]
    },
    {
      "cell_type": "code",
      "execution_count": 22,
      "metadata": {
        "id": "ogptzG84jVMu"
      },
      "outputs": [],
      "source": [
        "#importing necessary libraries\n",
        "import torch\n",
        "import torch.nn as nn\n",
        "import torch.optim as optim\n",
        "import torch.nn.functional as F\n",
        "from torch.utils.data import DataLoader\n",
        "from torchvision import datasets, transforms, models\n",
        "import os\n",
        "import shutil\n",
        "import sklearn\n",
        "from sklearn.model_selection import train_test_split\n",
        ""
      ]
    },
    {
      "cell_type": "markdown",
      "source": [
        "<h2>Data Loading and Preprocessing</h2>"
      ],
      "metadata": {
        "id": "8kp14VsQl5rX"
      }
    },
    {
      "cell_type": "code",
      "source": [
        "train_dir = 'train_dataset'\n",
        "val_dir = 'validation_dataset'\n",
        "test_dir = 'test_dataset'\n",
        "\n",
        "# Define transformations for training, validation, and testing data\n",
        "train_transform = transforms.Compose([\n",
        "    transforms.Resize((224, 224)),\n",
        "    transforms.RandomHorizontalFlip(),\n",
        "    transforms.RandomVerticalFlip(),\n",
        "    transforms.ToTensor(),\n",
        "    transforms.Normalize(mean = [0.8245, 0.8547, 0.9387], std = [0.1323, 0.1431, 0.0530])\n",
        "])\n",
        "\n",
        "val_test_transform = transforms.Compose([\n",
        "    transforms.Resize((224, 224)),\n",
        "    transforms.ToTensor(),\n",
        "    transforms.Normalize(mean = [0.8245, 0.8547, 0.9387], std = [0.1323, 0.1431, 0.0530])\n",
        "])\n",
        "\n",
        "# Create datasets\n",
        "train_dataset = datasets.ImageFolder(root=train_dir, transform=train_transform)\n",
        "val_dataset = datasets.ImageFolder(root=val_dir, transform=val_test_transform)\n",
        "test_dataset = datasets.ImageFolder(root=test_dir, transform=val_test_transform)\n",
        "\n",
        "# Create data loaders\n",
        "train_loader = DataLoader(train_dataset, batch_size=32, shuffle=True)\n",
        "val_loader = DataLoader(val_dataset, batch_size=32, shuffle=False)\n",
        "test_loader = DataLoader(test_dataset, batch_size=32, shuffle=False)"
      ],
      "metadata": {
        "id": "DPZIDtM7l0h5"
      },
      "execution_count": 32,
      "outputs": []
    },
    {
      "cell_type": "markdown",
      "source": [
        "<h2>Definig Model</h2>"
      ],
      "metadata": {
        "id": "_VUtP4Cwl7o-"
      }
    },
    {
      "cell_type": "code",
      "source": [
        "class CustomXception(nn.Module):\n",
        "    def __init__(self, num_classes=2):\n",
        "        super(CustomXception, self).__init__()\n",
        "        self.conv1 = nn.Conv2d(in_channels=3, out_channels=32, kernel_size=3, stride=1, padding=1)\n",
        "        self.conv2 = nn.Conv2d(in_channels=32, out_channels=64, kernel_size=3, stride=1, padding=1)\n",
        "        self.dropout1 = nn.Dropout(p=0.5)\n",
        "        self.dropout2 = nn.Dropout(p=0.5)\n",
        "        self.fc = nn.Linear(in_features=64*224*224, out_features=num_classes)\n",
        "\n",
        "    def forward(self, x):\n",
        "        x = F.relu(self.conv1(x))\n",
        "        x = F.relu(self.conv2(x))\n",
        "        x = self.dropout1(x)\n",
        "        x = x.view(x.size(0), -1)  # Flatten layer\n",
        "        x = self.dropout2(x)\n",
        "        x = self.fc(x)\n",
        "        return x\n",
        "\n",
        "device = torch.device(\"cuda\" if torch.cuda.is_available() else \"cpu\")\n",
        "model = CustomXception(num_classes=2).to(device)\n",
        "\n",
        "# Print model summary\n",
        "print(model)\n"
      ],
      "metadata": {
        "colab": {
          "base_uri": "https://localhost:8080/"
        },
        "id": "KCXuOoPXl4iI",
        "outputId": "3d838005-04d0-4a95-e113-d2d2c98aaf08"
      },
      "execution_count": 33,
      "outputs": [
        {
          "output_type": "stream",
          "name": "stdout",
          "text": [
            "CustomXception(\n",
            "  (conv1): Conv2d(3, 32, kernel_size=(3, 3), stride=(1, 1), padding=(1, 1))\n",
            "  (conv2): Conv2d(32, 64, kernel_size=(3, 3), stride=(1, 1), padding=(1, 1))\n",
            "  (dropout1): Dropout(p=0.5, inplace=False)\n",
            "  (dropout2): Dropout(p=0.5, inplace=False)\n",
            "  (fc): Linear(in_features=3211264, out_features=2, bias=True)\n",
            ")\n"
          ]
        }
      ]
    },
    {
      "cell_type": "markdown",
      "source": [
        "<h2>Training Model</h2>"
      ],
      "metadata": {
        "id": "_PUPi6gVn2yp"
      }
    },
    {
      "cell_type": "code",
      "source": [
        "from collections import Counter\n",
        "import numpy as np\n",
        "\n",
        "all_labels = [label for _, label in train_dataset]\n",
        "all_labels = np.array(all_labels)\n",
        "\n",
        "\n",
        "unique_labels, counts = np.unique(all_labels, return_counts=True)\n",
        "print(f\"Unique Labels: {unique_labels}\")\n",
        "print(f\"Counts: {counts}\")\n",
        "\n",
        "# Calculate class weights\n",
        "num_samples = len(all_labels)\n",
        "num_classes = len(unique_labels)\n",
        "class_counts = Counter(all_labels)\n",
        "class_weights = {class_id: num_samples / (num_classes * count) for class_id, count in class_counts.items()}\n",
        "class_weights_tensor = torch.tensor([class_weights[i] for i in range(num_classes)], dtype=torch.float32)\n",
        "\n",
        "print(f\"Class Weights: {class_weights}\")\n",
        "print(f\"Class Weights Tensor: {class_weights_tensor}\")\n",
        ""
      ],
      "metadata": {
        "colab": {
          "base_uri": "https://localhost:8080/"
        },
        "id": "jz8-fnKfn183",
        "outputId": "79960c59-86e3-43f8-aef8-5a666a0c40f9"
      },
      "execution_count": 34,
      "outputs": [
        {
          "output_type": "stream",
          "name": "stdout",
          "text": [
            "Unique Labels: [0 1]\n",
            "Counts: [ 403 2201]\n",
            "Class Weights: {0: 3.230769230769231, 1: 0.5915492957746479}\n",
            "Class Weights Tensor: tensor([3.2308, 0.5915])\n"
          ]
        }
      ]
    },
    {
      "cell_type": "code",
      "source": [
        "from torch.optim import lr_scheduler\n",
        "criterion = nn.CrossEntropyLoss(weight=class_weights_tensor.to(device))\n",
        "optimizer = torch.optim.Adam(model.parameters(), lr=0.0001)\n",
        "scheduler = lr_scheduler.StepLR(optimizer, step_size=5, gamma=0.5)"
      ],
      "metadata": {
        "id": "8XI3YSDroBjz"
      },
      "execution_count": 35,
      "outputs": []
    },
    {
      "cell_type": "code",
      "source": [
        "# Training loop\n",
        "num_epochs = 30\n",
        "train_losses = []\n",
        "val_losses = []\n",
        "train_accuracies = []\n",
        "val_accuracies = []\n",
        "\n",
        "for epoch in range(num_epochs):\n",
        "    model.train()\n",
        "    running_loss = 0.0\n",
        "    correct = 0\n",
        "    total = 0\n",
        "\n",
        "    for images, labels in train_loader:\n",
        "        images, labels = images.to(device), labels.to(device)\n",
        "        optimizer.zero_grad()\n",
        "        outputs = model(images)\n",
        "        loss = criterion(outputs, labels)\n",
        "        loss.backward()\n",
        "        optimizer.step()\n",
        "        running_loss += loss.item() * images.size(0)\n",
        "        _, predicted = torch.max(outputs, 1)\n",
        "        total += labels.size(0)\n",
        "        correct += (predicted == labels).sum().item()\n",
        "\n",
        "    train_loss = running_loss / len(train_loader.dataset)\n",
        "    train_accuracy = 100 * correct / total\n",
        "    train_losses.append(train_loss)\n",
        "    train_accuracies.append(train_accuracy)\n",
        "\n",
        "    model.eval()\n",
        "    val_loss = 0.0\n",
        "    correct = 0\n",
        "    total = 0\n",
        "\n",
        "    with torch.no_grad():\n",
        "        for images, labels in val_loader:\n",
        "            images, labels = images.to(device), labels.to(device)\n",
        "            outputs = model(images)\n",
        "            loss = criterion(outputs, labels)\n",
        "            val_loss += loss.item() * images.size(0)\n",
        "            _, predicted = torch.max(outputs, 1)\n",
        "            total += labels.size(0)\n",
        "            correct += (predicted == labels).sum().item()\n",
        "\n",
        "    val_loss = val_loss / len(val_loader.dataset)\n",
        "    val_accuracy = 100 * correct / total\n",
        "    val_losses.append(val_loss)\n",
        "    val_accuracies.append(val_accuracy)\n",
        "    scheduler.step()\n",
        "    print(f\"Epoch {epoch+1}/{num_epochs}, \"\n",
        "          f\"Training Loss: {train_loss:.4f}, \"\n",
        "          f\"Validation Loss: {val_loss:.4f}, \"\n",
        "          f\"Validation Accuracy: {val_accuracy:.2f}%\")\n"
      ],
      "metadata": {
        "colab": {
          "base_uri": "https://localhost:8080/"
        },
        "id": "759Gwp9SoKMu",
        "outputId": "a522e596-d851-4457-8938-b15eb23cbdd6"
      },
      "execution_count": 36,
      "outputs": [
        {
          "output_type": "stream",
          "name": "stdout",
          "text": [
            "Epoch 1/30, Training Loss: 1.2672, Validation Loss: 0.5499, Validation Accuracy: 82.77%\n",
            "Epoch 2/30, Training Loss: 0.4025, Validation Loss: 0.6232, Validation Accuracy: 80.92%\n",
            "Epoch 3/30, Training Loss: 0.2918, Validation Loss: 0.1653, Validation Accuracy: 94.46%\n",
            "Epoch 4/30, Training Loss: 0.1582, Validation Loss: 0.1521, Validation Accuracy: 95.38%\n",
            "Epoch 5/30, Training Loss: 0.1312, Validation Loss: 0.3123, Validation Accuracy: 87.08%\n",
            "Epoch 6/30, Training Loss: 0.0834, Validation Loss: 0.1390, Validation Accuracy: 95.08%\n",
            "Epoch 7/30, Training Loss: 0.0818, Validation Loss: 0.0654, Validation Accuracy: 97.54%\n",
            "Epoch 8/30, Training Loss: 0.0678, Validation Loss: 0.0846, Validation Accuracy: 96.92%\n",
            "Epoch 9/30, Training Loss: 0.0633, Validation Loss: 0.0469, Validation Accuracy: 98.46%\n",
            "Epoch 10/30, Training Loss: 0.0479, Validation Loss: 0.0465, Validation Accuracy: 99.08%\n",
            "Epoch 11/30, Training Loss: 0.0455, Validation Loss: 0.0488, Validation Accuracy: 98.46%\n",
            "Epoch 12/30, Training Loss: 0.0385, Validation Loss: 0.0562, Validation Accuracy: 97.54%\n",
            "Epoch 13/30, Training Loss: 0.0388, Validation Loss: 0.0508, Validation Accuracy: 98.77%\n",
            "Epoch 14/30, Training Loss: 0.0266, Validation Loss: 0.0445, Validation Accuracy: 98.77%\n",
            "Epoch 15/30, Training Loss: 0.0261, Validation Loss: 0.0622, Validation Accuracy: 97.54%\n",
            "Epoch 16/30, Training Loss: 0.0243, Validation Loss: 0.0453, Validation Accuracy: 98.77%\n",
            "Epoch 17/30, Training Loss: 0.0236, Validation Loss: 0.0524, Validation Accuracy: 98.77%\n",
            "Epoch 18/30, Training Loss: 0.0199, Validation Loss: 0.0444, Validation Accuracy: 98.46%\n",
            "Epoch 19/30, Training Loss: 0.0219, Validation Loss: 0.0442, Validation Accuracy: 98.77%\n",
            "Epoch 20/30, Training Loss: 0.0196, Validation Loss: 0.0485, Validation Accuracy: 98.46%\n",
            "Epoch 21/30, Training Loss: 0.0183, Validation Loss: 0.0485, Validation Accuracy: 98.77%\n",
            "Epoch 22/30, Training Loss: 0.0149, Validation Loss: 0.0496, Validation Accuracy: 98.46%\n",
            "Epoch 23/30, Training Loss: 0.0139, Validation Loss: 0.0446, Validation Accuracy: 98.77%\n",
            "Epoch 24/30, Training Loss: 0.0124, Validation Loss: 0.0457, Validation Accuracy: 99.08%\n",
            "Epoch 25/30, Training Loss: 0.0138, Validation Loss: 0.0446, Validation Accuracy: 98.77%\n",
            "Epoch 26/30, Training Loss: 0.0130, Validation Loss: 0.0460, Validation Accuracy: 98.77%\n",
            "Epoch 27/30, Training Loss: 0.0136, Validation Loss: 0.0460, Validation Accuracy: 98.77%\n",
            "Epoch 28/30, Training Loss: 0.0133, Validation Loss: 0.0470, Validation Accuracy: 98.77%\n",
            "Epoch 29/30, Training Loss: 0.0123, Validation Loss: 0.0445, Validation Accuracy: 98.77%\n",
            "Epoch 30/30, Training Loss: 0.0117, Validation Loss: 0.0454, Validation Accuracy: 99.08%\n"
          ]
        }
      ]
    },
    {
      "cell_type": "code",
      "source": [
        "# Plot training and validation metrics\n",
        "import matplotlib.pyplot as plt\n",
        "plt.figure(figsize=(12, 4))\n",
        "plt.subplot(1, 2, 1)\n",
        "plt.plot(range(num_epochs), train_losses, label='Training Loss')\n",
        "plt.plot(range(num_epochs), val_losses, label='Validation Loss')\n",
        "plt.xlabel('Epochs')\n",
        "plt.ylabel('Loss')\n",
        "plt.legend()\n",
        "plt.subplot(1, 2, 2)\n",
        "plt.plot(range(num_epochs), train_accuracies, label='Training Accuracy')\n",
        "plt.plot(range(num_epochs), val_accuracies, label='Validation Accuracy')\n",
        "plt.xlabel('Epochs')\n",
        "plt.ylabel('Accuracy')\n",
        "plt.legend()\n",
        "plt.show()"
      ],
      "metadata": {
        "colab": {
          "base_uri": "https://localhost:8080/",
          "height": 388
        },
        "id": "M5rKPNz0pAs8",
        "outputId": "2c996010-fa15-4c27-fccf-2e1ad5737e1d"
      },
      "execution_count": 37,
      "outputs": [
        {
          "output_type": "display_data",
          "data": {
            "text/plain": [
              "<Figure size 1200x400 with 2 Axes>"
            ],
            "image/png": "[encoded data removed]"
          },
          "metadata": {}
        }
      ]
    },
    {
      "cell_type": "markdown",
      "source": [
        "<h2>Evaluating Model</h2>"
      ],
      "metadata": {
        "id": "uwaOFQ2krGaP"
      }
    },
    {
      "cell_type": "code",
      "source": [
        "from sklearn.metrics import confusion_matrix, ConfusionMatrixDisplay, classification_report, precision_score, recall_score, f1_score, accuracy_score\n",
        "\n",
        "def evaluate_model(model, dataloader, criterion, device):\n",
        "    model.eval()\n",
        "    test_loss = 0.0\n",
        "    all_labels = []\n",
        "    all_preds = []\n",
        "\n",
        "    with torch.no_grad():\n",
        "        for inputs, labels in dataloader:\n",
        "            inputs, labels = inputs.to(device), labels.to(device)\n",
        "            outputs = model(inputs)\n",
        "\n",
        "            # Get the predicted labels\n",
        "            _, preds = torch.max(outputs, 1)\n",
        "\n",
        "            # Convert predictions and labels to numpy for metrics calculation\n",
        "            all_labels.extend(labels.cpu().numpy())\n",
        "            all_preds.extend(preds.cpu().numpy())\n",
        "\n",
        "            # Compute loss\n",
        "            loss = criterion(outputs, labels)\n",
        "            test_loss += loss.item() * inputs.size(0)\n",
        "\n",
        "    # Compute average test loss\n",
        "    test_loss /= len(dataloader.dataset)\n",
        "\n",
        "    # Calculate metrics\n",
        "    accuracy = accuracy_score(all_labels, all_preds)\n",
        "    precision = precision_score(all_labels, all_preds, average='weighted')\n",
        "    recall = recall_score(all_labels, all_preds, average='weighted')\n",
        "    f1 = f1_score(all_labels, all_preds, average='weighted')\n",
        "\n",
        "    print(f'Test Loss: {test_loss:.4f}')\n",
        "    print(f'Test Accuracy: {accuracy:.4f}')\n",
        "    print(f'Test Precision: {precision:.4f}')\n",
        "    print(f'Test Recall: {recall:.4f}')\n",
        "    print(f'Test F1-score: {f1:.4f}')\n",
        "\n",
        "    # Compute confusion matrix\n",
        "    cm = confusion_matrix(all_labels, all_preds)\n",
        "    print(\"Confusion Matrix:\\n\", cm)\n",
        "\n",
        "    # Plot confusion matrix\n",
        "    disp = ConfusionMatrixDisplay(confusion_matrix=cm, display_labels=['Class 0', 'Class 1'])\n",
        "    disp.plot(cmap=plt.cm.Blues)\n",
        "    plt.show()\n",
        "\n",
        "    # Print classification report\n",
        "    class_report = classification_report(all_labels, all_preds, target_names=['Class 0', 'Class 1'])\n",
        "    print(\"Classification Report:\\n\", class_report)\n",
        "\n",
        "    return test_loss, accuracy, precision, recall, f1, cm, class_report\n",
        "\n",
        "test_loss, test_accuracy, test_precision, test_recall, test_f1, cm, class_report = evaluate_model(model, test_loader, criterion, device)"
      ],
      "metadata": {
        "colab": {
          "base_uri": "https://localhost:8080/",
          "height": 761
        },
        "id": "jYJFD93BqO9Y",
        "outputId": "54433714-d1ff-4758-f3b0-5a13e55ec3aa"
      },
      "execution_count": 38,
      "outputs": [
        {
          "output_type": "stream",
          "name": "stdout",
          "text": [
            "Test Loss: 0.1297\n",
            "Test Accuracy: 0.9725\n",
            "Test Precision: 0.9723\n",
            "Test Recall: 0.9725\n",
            "Test F1-score: 0.9724\n",
            "Confusion Matrix:\n",
            " [[ 46   5]\n",
            " [  4 272]]\n"
          ]
        },
        {
          "output_type": "display_data",
          "data": {
            "text/plain": [
              "<Figure size 640x480 with 2 Axes>"
            ],
            "image/png": "[encoded data removed]"
          },
          "metadata": {}
        },
        {
          "output_type": "stream",
          "name": "stdout",
          "text": [
            "Classification Report:\n",
            "               precision    recall  f1-score   support\n",
            "\n",
            "     Class 0       0.92      0.90      0.91        51\n",
            "     Class 1       0.98      0.99      0.98       276\n",
            "\n",
            "    accuracy                           0.97       327\n",
            "   macro avg       0.95      0.94      0.95       327\n",
            "weighted avg       0.97      0.97      0.97       327\n",
            "\n"
          ]
        }
      ]
    },
    {
      "cell_type": "code",
      "source": [
        "model_path = '/content/drive/My Drive/custom_xception.pth'\n",
        "torch.save(model, model_path)"
      ],
      "metadata": {
        "id": "SBZPTIl6pReR"
      },
      "execution_count": 39,
      "outputs": []
    }
  ]
}